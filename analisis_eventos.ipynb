{
 "cells": [
  {
   "cell_type": "markdown",
   "metadata": {},
   "source": [
    "# Análisis de datos de eventos deportivos con Pandas en Python"
   ]
  },
  {
   "cell_type": "markdown",
   "metadata": {},
   "source": [
    "## Importar las librerías necesarias"
   ]
  },
  {
   "cell_type": "code",
   "execution_count": 17,
   "metadata": {},
   "outputs": [],
   "source": [
    "import pandas as pd"
   ]
  },
  {
   "cell_type": "markdown",
   "metadata": {},
   "source": [
    "## Cargar los datos desde los archivos CSV"
   ]
  },
  {
   "cell_type": "code",
   "execution_count": 18,
   "metadata": {},
   "outputs": [],
   "source": [
    "aficionados_df = pd.read_csv('./workspace/aficionados.csv')\n",
    "eventos_df = pd.read_csv('./workspace/eventos.csv')\n",
    "promociones_df = pd.read_csv('./workspace/promociones.csv')"
   ]
  },
  {
   "cell_type": "code",
   "execution_count": 19,
   "metadata": {},
   "outputs": [
    {
     "data": {
      "text/html": [
       "<div>\n",
       "<style scoped>\n",
       "    .dataframe tbody tr th:only-of-type {\n",
       "        vertical-align: middle;\n",
       "    }\n",
       "\n",
       "    .dataframe tbody tr th {\n",
       "        vertical-align: top;\n",
       "    }\n",
       "\n",
       "    .dataframe thead th {\n",
       "        text-align: right;\n",
       "    }\n",
       "</style>\n",
       "<table border=\"1\" class=\"dataframe\">\n",
       "  <thead>\n",
       "    <tr style=\"text-align: right;\">\n",
       "      <th></th>\n",
       "      <th>id_aficionado</th>\n",
       "      <th>nombre_aficionado</th>\n",
       "      <th>edad</th>\n",
       "      <th>género</th>\n",
       "      <th>ubicación_residencia</th>\n",
       "      <th>id_evento</th>\n",
       "    </tr>\n",
       "  </thead>\n",
       "  <tbody>\n",
       "    <tr>\n",
       "      <th>0</th>\n",
       "      <td>1</td>\n",
       "      <td>Aficionado 1</td>\n",
       "      <td>45</td>\n",
       "      <td>F</td>\n",
       "      <td>Ciudad B</td>\n",
       "      <td>41</td>\n",
       "    </tr>\n",
       "    <tr>\n",
       "      <th>1</th>\n",
       "      <td>2</td>\n",
       "      <td>Aficionado 2</td>\n",
       "      <td>20</td>\n",
       "      <td>F</td>\n",
       "      <td>Ciudad D</td>\n",
       "      <td>3</td>\n",
       "    </tr>\n",
       "    <tr>\n",
       "      <th>2</th>\n",
       "      <td>3</td>\n",
       "      <td>Aficionado 3</td>\n",
       "      <td>20</td>\n",
       "      <td>F</td>\n",
       "      <td>Ciudad A</td>\n",
       "      <td>25</td>\n",
       "    </tr>\n",
       "    <tr>\n",
       "      <th>3</th>\n",
       "      <td>4</td>\n",
       "      <td>Aficionado 4</td>\n",
       "      <td>36</td>\n",
       "      <td>F</td>\n",
       "      <td>Ciudad B</td>\n",
       "      <td>33</td>\n",
       "    </tr>\n",
       "    <tr>\n",
       "      <th>4</th>\n",
       "      <td>5</td>\n",
       "      <td>Aficionado 5</td>\n",
       "      <td>36</td>\n",
       "      <td>M</td>\n",
       "      <td>Ciudad C</td>\n",
       "      <td>14</td>\n",
       "    </tr>\n",
       "  </tbody>\n",
       "</table>\n",
       "</div>"
      ],
      "text/plain": [
       "   id_aficionado nombre_aficionado  edad género ubicación_residencia  \\\n",
       "0              1      Aficionado 1    45      F             Ciudad B   \n",
       "1              2      Aficionado 2    20      F             Ciudad D   \n",
       "2              3      Aficionado 3    20      F             Ciudad A   \n",
       "3              4      Aficionado 4    36      F             Ciudad B   \n",
       "4              5      Aficionado 5    36      M             Ciudad C   \n",
       "\n",
       "   id_evento  \n",
       "0         41  \n",
       "1          3  \n",
       "2         25  \n",
       "3         33  \n",
       "4         14  "
      ]
     },
     "execution_count": 19,
     "metadata": {},
     "output_type": "execute_result"
    }
   ],
   "source": [
    "aficionados_df.head()\n"
   ]
  },
  {
   "cell_type": "code",
   "execution_count": 30,
   "metadata": {},
   "outputs": [
    {
     "data": {
      "text/html": [
       "<div>\n",
       "<style scoped>\n",
       "    .dataframe tbody tr th:only-of-type {\n",
       "        vertical-align: middle;\n",
       "    }\n",
       "\n",
       "    .dataframe tbody tr th {\n",
       "        vertical-align: top;\n",
       "    }\n",
       "\n",
       "    .dataframe thead th {\n",
       "        text-align: right;\n",
       "    }\n",
       "</style>\n",
       "<table border=\"1\" class=\"dataframe\">\n",
       "  <thead>\n",
       "    <tr style=\"text-align: right;\">\n",
       "      <th></th>\n",
       "      <th>id_evento</th>\n",
       "      <th>nombre_evento</th>\n",
       "      <th>fecha_evento</th>\n",
       "      <th>ubicación_evento</th>\n",
       "      <th>asistentes_totales</th>\n",
       "    </tr>\n",
       "  </thead>\n",
       "  <tbody>\n",
       "    <tr>\n",
       "      <th>0</th>\n",
       "      <td>1</td>\n",
       "      <td>Evento 1</td>\n",
       "      <td>2023-01-01</td>\n",
       "      <td>Ciudad C</td>\n",
       "      <td>1292</td>\n",
       "    </tr>\n",
       "    <tr>\n",
       "      <th>1</th>\n",
       "      <td>2</td>\n",
       "      <td>Evento 2</td>\n",
       "      <td>2023-01-02</td>\n",
       "      <td>Ciudad A</td>\n",
       "      <td>9629</td>\n",
       "    </tr>\n",
       "    <tr>\n",
       "      <th>2</th>\n",
       "      <td>3</td>\n",
       "      <td>Evento 3</td>\n",
       "      <td>2023-01-03</td>\n",
       "      <td>Ciudad A</td>\n",
       "      <td>254</td>\n",
       "    </tr>\n",
       "    <tr>\n",
       "      <th>3</th>\n",
       "      <td>4</td>\n",
       "      <td>Evento 4</td>\n",
       "      <td>2023-01-04</td>\n",
       "      <td>Ciudad D</td>\n",
       "      <td>8914</td>\n",
       "    </tr>\n",
       "    <tr>\n",
       "      <th>4</th>\n",
       "      <td>5</td>\n",
       "      <td>Evento 5</td>\n",
       "      <td>2023-01-05</td>\n",
       "      <td>Ciudad C</td>\n",
       "      <td>7647</td>\n",
       "    </tr>\n",
       "  </tbody>\n",
       "</table>\n",
       "</div>"
      ],
      "text/plain": [
       "   id_evento nombre_evento fecha_evento ubicación_evento  asistentes_totales\n",
       "0          1      Evento 1   2023-01-01         Ciudad C                1292\n",
       "1          2      Evento 2   2023-01-02         Ciudad A                9629\n",
       "2          3      Evento 3   2023-01-03         Ciudad A                 254\n",
       "3          4      Evento 4   2023-01-04         Ciudad D                8914\n",
       "4          5      Evento 5   2023-01-05         Ciudad C                7647"
      ]
     },
     "execution_count": 30,
     "metadata": {},
     "output_type": "execute_result"
    }
   ],
   "source": [
    "eventos_df.head()\n"
   ]
  },
  {
   "cell_type": "code",
   "execution_count": 21,
   "metadata": {},
   "outputs": [
    {
     "data": {
      "text/html": [
       "<div>\n",
       "<style scoped>\n",
       "    .dataframe tbody tr th:only-of-type {\n",
       "        vertical-align: middle;\n",
       "    }\n",
       "\n",
       "    .dataframe tbody tr th {\n",
       "        vertical-align: top;\n",
       "    }\n",
       "\n",
       "    .dataframe thead th {\n",
       "        text-align: right;\n",
       "    }\n",
       "</style>\n",
       "<table border=\"1\" class=\"dataframe\">\n",
       "  <thead>\n",
       "    <tr style=\"text-align: right;\">\n",
       "      <th></th>\n",
       "      <th>id_promocion</th>\n",
       "      <th>medio_publicitario</th>\n",
       "      <th>presupuesto</th>\n",
       "      <th>fecha_inicio</th>\n",
       "      <th>fecha_fin</th>\n",
       "      <th>id_evento</th>\n",
       "    </tr>\n",
       "  </thead>\n",
       "  <tbody>\n",
       "    <tr>\n",
       "      <th>0</th>\n",
       "      <td>1</td>\n",
       "      <td>Radio</td>\n",
       "      <td>8880</td>\n",
       "      <td>2023-01-01</td>\n",
       "      <td>2023-01-06</td>\n",
       "      <td>23</td>\n",
       "    </tr>\n",
       "    <tr>\n",
       "      <th>1</th>\n",
       "      <td>2</td>\n",
       "      <td>Radio</td>\n",
       "      <td>15767</td>\n",
       "      <td>2023-01-06</td>\n",
       "      <td>2023-01-11</td>\n",
       "      <td>23</td>\n",
       "    </tr>\n",
       "    <tr>\n",
       "      <th>2</th>\n",
       "      <td>3</td>\n",
       "      <td>Internet</td>\n",
       "      <td>6804</td>\n",
       "      <td>2023-01-11</td>\n",
       "      <td>2023-01-16</td>\n",
       "      <td>3</td>\n",
       "    </tr>\n",
       "    <tr>\n",
       "      <th>3</th>\n",
       "      <td>4</td>\n",
       "      <td>Redes Sociales</td>\n",
       "      <td>5520</td>\n",
       "      <td>2023-01-16</td>\n",
       "      <td>2023-01-21</td>\n",
       "      <td>7</td>\n",
       "    </tr>\n",
       "    <tr>\n",
       "      <th>4</th>\n",
       "      <td>5</td>\n",
       "      <td>Radio</td>\n",
       "      <td>19598</td>\n",
       "      <td>2023-01-21</td>\n",
       "      <td>2023-01-26</td>\n",
       "      <td>17</td>\n",
       "    </tr>\n",
       "  </tbody>\n",
       "</table>\n",
       "</div>"
      ],
      "text/plain": [
       "   id_promocion medio_publicitario  presupuesto fecha_inicio   fecha_fin  \\\n",
       "0             1              Radio         8880   2023-01-01  2023-01-06   \n",
       "1             2              Radio        15767   2023-01-06  2023-01-11   \n",
       "2             3           Internet         6804   2023-01-11  2023-01-16   \n",
       "3             4     Redes Sociales         5520   2023-01-16  2023-01-21   \n",
       "4             5              Radio        19598   2023-01-21  2023-01-26   \n",
       "\n",
       "   id_evento  \n",
       "0         23  \n",
       "1         23  \n",
       "2          3  \n",
       "3          7  \n",
       "4         17  "
      ]
     },
     "execution_count": 21,
     "metadata": {},
     "output_type": "execute_result"
    }
   ],
   "source": [
    "promociones_df.head()"
   ]
  },
  {
   "cell_type": "markdown",
   "metadata": {},
   "source": [
    "## Limpieza de datos: Eliminar filas con valores nulos"
   ]
  },
  {
   "cell_type": "code",
   "execution_count": 22,
   "metadata": {},
   "outputs": [],
   "source": [
    "aficionados_df_clean = aficionados_df.dropna()\n",
    "eventos_df_clean = eventos_df.dropna()\n",
    "promociones_df_clean = promociones_df.dropna()"
   ]
  },
  {
   "cell_type": "markdown",
   "metadata": {},
   "source": [
    "## Combinación de los DataFrames usando 'id_evento'"
   ]
  },
  {
   "cell_type": "code",
   "execution_count": 23,
   "metadata": {},
   "outputs": [],
   "source": [
    "merged_df = pd.merge(aficionados_df_clean, eventos_df_clean, on='id_evento', how='inner')\n",
    "merged_df = pd.merge(merged_df, promociones_df_clean, on='id_evento', how='inner')"
   ]
  },
  {
   "cell_type": "markdown",
   "metadata": {},
   "source": [
    "## Responde las siguientes preguntas de negocio"
   ]
  },
  {
   "cell_type": "markdown",
   "metadata": {},
   "source": [
    "### 1. ¿Cuál es el evento con mayor asistencia total?"
   ]
  },
  {
   "cell_type": "code",
   "execution_count": 41,
   "metadata": {},
   "outputs": [
    {
     "name": "stdout",
     "output_type": "stream",
     "text": [
      "Evento con mayor asistencia total:\n",
      " nombre_evento         Evento 29\n",
      "asistentes_totales         9879\n",
      "Name: 36, dtype: object\n"
     ]
    }
   ],
   "source": [
    "evento_mayor_asistencia = merged_df.loc[merged_df['asistentes_totales'].idxmax()]\n",
    "print(\"Evento con mayor asistencia total:\\n\", evento_mayor_asistencia[['nombre_evento','asistentes_totales']])"
   ]
  },
  {
   "cell_type": "markdown",
   "metadata": {},
   "source": [
    "### 2. ¿Cuál es el rango de edad que asiste más frecuentemente a los eventos?"
   ]
  },
  {
   "cell_type": "code",
   "execution_count": 42,
   "metadata": {},
   "outputs": [
    {
     "name": "stdout",
     "output_type": "stream",
     "text": [
      "Rango de edad más frecuente: 19-25\n"
     ]
    }
   ],
   "source": [
    "bins = [0, 18, 25, 35, 45, 60, 100]\n",
    "labels = ['0-18', '19-25', '26-35', '36-45', '46-60', '60+']\n",
    "merged_df['rango_edad'] = pd.cut(merged_df['edad'], bins=bins, labels=labels)\n",
    "rango_edad_mas_frecuente = merged_df['rango_edad'].value_counts().idxmax()\n",
    "print(\"Rango de edad más frecuente:\", rango_edad_mas_frecuente)"
   ]
  },
  {
   "cell_type": "markdown",
   "metadata": {},
   "source": [
    "### # 3. ¿Qué medio publicitario ha generado mayor impacto en términos de asistencia?"
   ]
  },
  {
   "cell_type": "code",
   "execution_count": 44,
   "metadata": {},
   "outputs": [
    {
     "name": "stdout",
     "output_type": "stream",
     "text": [
      "Medio publicitario con mayor impacto: TV\n"
     ]
    }
   ],
   "source": [
    "merged_df['impacto_promocion'] = merged_df['asistentes_totales'] / merged_df['presupuesto']\n",
    "impacto_medio_publicitario = merged_df.groupby('medio_publicitario')['impacto_promocion'].mean().idxmax()\n",
    "print(\"Medio publicitario con mayor impacto:\", impacto_medio_publicitario)"
   ]
  },
  {
   "cell_type": "markdown",
   "metadata": {},
   "source": [
    "### 4. ¿Cuál es la ubicación de residencia que más aficionados aporta a los eventos?"
   ]
  },
  {
   "cell_type": "code",
   "execution_count": 45,
   "metadata": {},
   "outputs": [
    {
     "name": "stdout",
     "output_type": "stream",
     "text": [
      "Ubicación de residencia que más aporta Ciudad A\n"
     ]
    }
   ],
   "source": [
    "ubicacion_mas_aficionados = merged_df['ubicación_residencia'].value_counts().idxmax()\n",
    "print(\"Ubicación de residencia que más aporta\", ubicacion_mas_aficionados)"
   ]
  },
  {
   "cell_type": "markdown",
   "metadata": {},
   "source": [
    "## Exportar el DataFrame resultante a un archivo CSV\n",
    "Guarda el DataFrame resultante con todas las transformaciones y análisis en un archivo CSV llamado reporte_eventos.csv utilizando la función df.to_csv()"
   ]
  },
  {
   "cell_type": "code",
   "execution_count": 47,
   "metadata": {},
   "outputs": [
    {
     "name": "stdout",
     "output_type": "stream",
     "text": [
      "Datos exportados a reporte_events.csv\n"
     ]
    }
   ],
   "source": [
    "merged_df.to_csv('./workspace/reporte_eventos.csv', index=False)\n",
    "print(\"Datos exportados a reporte_events.csv\")"
   ]
  }
 ],
 "metadata": {
  "kernelspec": {
   "display_name": "venv",
   "language": "python",
   "name": "python3"
  },
  "language_info": {
   "codemirror_mode": {
    "name": "ipython",
    "version": 3
   },
   "file_extension": ".py",
   "mimetype": "text/x-python",
   "name": "python",
   "nbconvert_exporter": "python",
   "pygments_lexer": "ipython3",
   "version": "3.12.4"
  }
 },
 "nbformat": 4,
 "nbformat_minor": 2
}
